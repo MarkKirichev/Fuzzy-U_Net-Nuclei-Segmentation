{
  "nbformat": 4,
  "nbformat_minor": 0,
  "metadata": {
    "colab": {
      "name": "Fuzzy_Layer.ipynb",
      "provenance": []
    },
    "kernelspec": {
      "name": "python3",
      "display_name": "Python 3"
    }
  },
  "cells": [
    {
      "cell_type": "code",
      "metadata": {
        "id": "If5rSkUtI5jd",
        "outputId": "b1cbe3bf-9621-44ed-f51f-919b84528bf0",
        "colab": {
          "base_uri": "https://localhost:8080/",
          "height": 34
        }
      },
      "source": [
        "from keras import backend\n",
        "from keras.engine.topology import Layer\n",
        "import numpy as np\n",
        "\n",
        "# https://github.com/kenoma/KerasFuzzy\n",
        "\n",
        "class FuzzyLayer(Layer):\n",
        "\n",
        "    def __init__(self,\n",
        "                 output_dim,\n",
        "                 initializer_centers=None,\n",
        "                 initializer_sigmas=None,\n",
        "                 **kwargs):\n",
        "        if 'input_shape' not in kwargs and 'input_dim' in kwargs:\n",
        "            kwargs['input_shape'] = (kwargs.pop('input_dim'), )\n",
        "        self.output_dim = output_dim\n",
        "        self.initializer_centers = initializer_centers\n",
        "        self.initializer_sigmas = initializer_sigmas\n",
        "        super(FuzzyLayer, self).__init__(**kwargs)\n",
        "\n",
        "    def build(self, input_shape):\n",
        "        self.input_dimensions = list(input_shape)[:-1:-1]\n",
        "        self.c = self.add_weight(name='c',\n",
        "                                 shape=(input_shape[-1], self.output_dim),\n",
        "                                 initializer=self.initializer_centers if not self.initializer_centers is None else 'uniform',\n",
        "                                 trainable=True)\n",
        "        self.a = self.add_weight(name='a',\n",
        "                                 shape=(input_shape[-1], self.output_dim),\n",
        "                                 initializer=self.initializer_sigmas if not self.initializer_sigmas is None else 'ones',\n",
        "                                 trainable=True)\n",
        "        super(FuzzyLayer, self).build(input_shape)\n",
        "\n",
        "    def call(self, x):\n",
        "\n",
        "        aligned_x = backend.repeat_elements(backend.expand_dims(x, axis=-1), self.output_dim, -1)\n",
        "        aligned_c = self.c\n",
        "        aligned_a = self.a\n",
        "        for dim in self.input_dimensions:\n",
        "            aligned_c = backend.repeat_elements(backend.expand_dims(aligned_c, 0), dim, 0)\n",
        "            aligned_a = backend.repeat_elements(backend.expand_dims(aligned_a, 0), dim, 0)\n",
        "\n",
        "        xc = backend.exp((-1) * backend.sum(backend.square((aligned_x - aligned_c) / (aligned_a << 1)), axis=-2, keepdims=False))\n",
        "        # sums = K.sum(xc,axis=-1, keepdims=True)\n",
        "        # less = backend.ones_like(sums) * backend.epsilon()\n",
        "        return xc  # xc / backend.maximum(sums, less)\n",
        "\n",
        "    def compute_output_shape(self, input_shape):\n",
        "        return tuple(input_shape[:-1]) + (self.output_dim,)"
      ],
      "execution_count": null,
      "outputs": [
        {
          "output_type": "stream",
          "text": [
            "Using TensorFlow backend.\n"
          ],
          "name": "stderr"
        }
      ]
    }
  ]
}