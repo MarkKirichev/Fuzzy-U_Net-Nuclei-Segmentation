{
  "nbformat": 4,
  "nbformat_minor": 0,
  "metadata": {
    "colab": {
      "name": "Test_Fuzzy.ipynb",
      "provenance": []
    },
    "kernelspec": {
      "name": "python3",
      "display_name": "Python 3"
    }
  },
  "cells": [
    {
      "cell_type": "code",
      "metadata": {
        "id": "DpgXbZmoRRS1"
      },
      "source": [
        "import tensorflow as tf"
      ],
      "execution_count": null,
      "outputs": []
    },
    {
      "cell_type": "code",
      "metadata": {
        "id": "P78IdlMAShyq"
      },
      "source": [
        "import sys\n",
        "sys.path.append('/content/drive/My Drive/Colab Notebooks/Fuzzy_Layer.ipynb')"
      ],
      "execution_count": null,
      "outputs": []
    },
    {
      "cell_type": "code",
      "metadata": {
        "id": "KkxAHYNaRbg0",
        "outputId": "8430b08c-3b7f-4a13-ff63-b019a49add97",
        "colab": {
          "base_uri": "https://localhost:8080/",
          "height": 122
        }
      },
      "source": [
        "from google.colab import drive\n",
        "drive.mount('/content/drive')"
      ],
      "execution_count": null,
      "outputs": [
        {
          "output_type": "stream",
          "text": [
            "Go to this URL in a browser: https://accounts.google.com/o/oauth2/auth?client_id=947318989803-6bn6qk8qdgf4n4g3pfee6491hc0brc4i.apps.googleusercontent.com&redirect_uri=urn%3aietf%3awg%3aoauth%3a2.0%3aoob&response_type=code&scope=email%20https%3a%2f%2fwww.googleapis.com%2fauth%2fdocs.test%20https%3a%2f%2fwww.googleapis.com%2fauth%2fdrive%20https%3a%2f%2fwww.googleapis.com%2fauth%2fdrive.photos.readonly%20https%3a%2f%2fwww.googleapis.com%2fauth%2fpeopleapi.readonly\n",
            "\n",
            "Enter your authorization code:\n",
            "··········\n",
            "Mounted at /content/drive\n"
          ],
          "name": "stdout"
        }
      ]
    },
    {
      "cell_type": "code",
      "metadata": {
        "id": "VwhRGQ3tTpsZ"
      },
      "source": [
        "from keras import backend as K\n",
        "from keras.engine.topology import Layer\n",
        "import numpy as np\n",
        "\n",
        "class FuzzyLayer(Layer):\n",
        "\n",
        "    def __init__(self, \n",
        "                 output_dim, \n",
        "                 initializer_centers=None,\n",
        "                 initializer_sigmas=None, \n",
        "                 **kwargs):\n",
        "        if 'input_shape' not in kwargs and 'input_dim' in kwargs:\n",
        "            kwargs['input_shape'] = (kwargs.pop('input_dim'),)\n",
        "        self.output_dim = output_dim\n",
        "        self.initializer_centers = initializer_centers\n",
        "        self.initializer_sigmas = initializer_sigmas\n",
        "        super(FuzzyLayer, self).__init__(**kwargs)\n",
        "\n",
        "    def build(self, input_shape):\n",
        "        self.input_dimensions = list(input_shape)[:-1:-1]\n",
        "        self.c = self.add_weight(name='c', \n",
        "                                 shape=(input_shape[-1], self.output_dim),\n",
        "                                 initializer= self.initializer_centers if self.initializer_centers is not None else 'uniform',\n",
        "                                 trainable=True)\n",
        "        self.a = self.add_weight(name='a', \n",
        "                                 shape=(input_shape[-1], self.output_dim),\n",
        "                                 initializer=self.initializer_sigmas if self.initializer_sigmas is not None else 'ones',\n",
        "                                 trainable=True)\n",
        "        super(FuzzyLayer, self).build(input_shape)  \n",
        "\n",
        "    def call(self, x):\n",
        "        \n",
        "        aligned_x = K.repeat_elements(K.expand_dims(x, axis = -1), self.output_dim, -1)\n",
        "        aligned_c = self.c\n",
        "        aligned_a = self.a\n",
        "        for dim in self.input_dimensions:\n",
        "            aligned_c = K.repeat_elements(K.expand_dims(aligned_c, 0), dim, 0)\n",
        "            aligned_a = K.repeat_elements(K.expand_dims(aligned_a, 0), dim, 0)\n",
        "\n",
        "        xc = K.exp(-K.sum(K.square((aligned_x - aligned_c) / (2 * aligned_a)), axis=-2, keepdims=False))\n",
        "        #sums = K.sum(xc,axis=-1,keepdims=True)\n",
        "        #less = K.ones_like(sums) * K.epsilon()\n",
        "        return xc# xc / K.maximum(sums, less)\n",
        "        \n",
        "    def compute_output_shape(self, input_shape):\n",
        "        return tuple(input_shape[:-1]) + (self.output_dim,)"
      ],
      "execution_count": null,
      "outputs": []
    },
    {
      "cell_type": "code",
      "metadata": {
        "id": "zOrd5uTux-1y"
      },
      "source": [
        "from tensorflow.keras import backend\n",
        "from tensorflow.keras import Layer\n",
        "import numpy as np\n",
        "\n",
        "# https://github.com/kenoma/KerasFuzzy\n",
        "\n",
        "class DefuzzyLayer(Layer):\n",
        "\n",
        "    def __init__(self,\n",
        "                 output_dim,\n",
        "                 initializer_rules_outcome=None,\n",
        "                 **kwargs):\n",
        "        if 'input_shape' not in kwargs and 'input_dim' in kwargs:\n",
        "            kwargs['input_shape'] = (kwargs.pop('input_dim'),)\n",
        "        self.output_dim = output_dim\n",
        "        self.initializer_rules_outcome = initializer_rules_outcome\n",
        "        super(DefuzzyLayer, self).__init__(**kwargs)\n",
        "\n",
        "    def build(self, input_shape):\n",
        "        self.input_dimensions = list(input_shape)[:-1:-1]\n",
        "        self.rules_outcome = self.add_weight(name='rules_outcome',\n",
        "                                             shape=(input_shape[1], self.output_dim),\n",
        "                                             initializer=self.initializer_rules_outcome if self.initializer_rules_outcome is not None else 'uniform',\n",
        "                                             trainable=True)\n",
        "\n",
        "        super(DefuzzyLayer, self).build(input_shape)\n",
        "\n",
        "    def call(self, x):\n",
        "        aligned_x = backend.repeat_elements(backend.expand_dims(x, axis=-1), self.output_dim, -1)\n",
        "        aligned_rules_outcome = self.rules_outcome\n",
        "        for dim in self.input_dimensions:\n",
        "            aligned_rules_outcome = backend.repeat_elements(backend.expand_dims(aligned_rules_outcome, 0), dim, 0)\n",
        "\n",
        "        xc = backend.sum((aligned_x * aligned_rules_outcome), axis=-2, keepdims=False)\n",
        "        return xc\n",
        "\n",
        "    def compute_output_shape(self, input_shape):\n",
        "        return tuple(input_shape[:-1]) + (self.output_dim,)"
      ],
      "execution_count": null,
      "outputs": []
    },
    {
      "cell_type": "code",
      "metadata": {
        "id": "BIwUA6PcVKIS",
        "colab": {
          "base_uri": "https://localhost:8080/",
          "height": 34
        },
        "outputId": "b9d3f3c6-24df-419d-fa9d-644fa6ccc4a5"
      },
      "source": [
        "from tensorflow import keras\n",
        "\n",
        "from keras.layers import Input, Dense, concatenate\n",
        "from keras.models import Model\n",
        "from keras.datasets import mnist\n",
        "import numpy as np\n",
        "import matplotlib.pyplot as plt\n",
        "from tensorflow.python.client import device_lib\n",
        "from keras.utils import to_categorical\n",
        "from keras.layers import Conv2D"
      ],
      "execution_count": null,
      "outputs": [
        {
          "output_type": "stream",
          "text": [
            "Using TensorFlow backend.\n"
          ],
          "name": "stderr"
        }
      ]
    },
    {
      "cell_type": "code",
      "metadata": {
        "id": "-AKIrYDFTs02",
        "colab": {
          "base_uri": "https://localhost:8080/",
          "height": 34
        },
        "outputId": "b3951cef-e1dd-4259-a46f-84b2f9778276"
      },
      "source": [
        "input_img = Input(shape=(256, 256, 3))\n",
        "\n",
        "f_layer = FuzzyLayer(100)\n",
        "def_layer = DefuzzyLayer(8)\n",
        "\n",
        "layer1 = f_layer(input_img)\n",
        "layer2 = Conv2D(16, (3, 3), activation='relu', kernel_initializer='he_normal', padding='same')(layer1)\n",
        "layer3 = Dense(256)(layer2)\n",
        "\n",
        "layer4 = Conv2D(256, (3, 3), activation='relu', kernel_initializer='he_normal', padding='same')(layer3)\n",
        "layer5 = def_layer(layer4)\n",
        "\n",
        "c = concatenate([layer2, layer4])\n",
        "\n",
        "mnist_classifier = Model(input_img, c)\n",
        "\n",
        "print(\"Everything ok\")"
      ],
      "execution_count": null,
      "outputs": [
        {
          "output_type": "stream",
          "text": [
            "Everything ok\n"
          ],
          "name": "stdout"
        }
      ]
    }
  ]
}